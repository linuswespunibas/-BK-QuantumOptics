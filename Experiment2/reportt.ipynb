{
 "cells": [
  {
   "cell_type": "markdown",
   "id": "639a4741",
   "metadata": {},
   "source": [
    "like a paper\n",
    "\n",
    "physics paper: \n",
    "\n",
    "introduction = theory\n",
    "\n",
    "setup report in basically two sections: section 1 = experiment 1, section 2 = experiment 2 \n",
    "\n",
    "discuss results and methotology in one section -> section name \"methodology and results\" -> have justified error bars, explain where the error bars come from -> proper units -> \n",
    "\n",
    "write conclusion / outlook\n",
    "\n",
    "use references they send us, ofc. use also other ones\n"
   ]
  },
  {
   "cell_type": "code",
   "execution_count": null,
   "id": "48d1b470",
   "metadata": {},
   "outputs": [],
   "source": [
    "# looks like paper"
   ]
  },
  {
   "cell_type": "code",
   "execution_count": null,
   "id": "2c5f5caf",
   "metadata": {},
   "outputs": [],
   "source": []
  }
 ],
 "metadata": {
  "kernelspec": {
   "display_name": "Python 3",
   "language": "python",
   "name": "python3"
  },
  "language_info": {
   "name": "python",
   "version": "3.12.3"
  }
 },
 "nbformat": 4,
 "nbformat_minor": 5
}
