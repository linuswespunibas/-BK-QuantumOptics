{
 "cells": [
  {
   "cell_type": "markdown",
   "id": "546febae",
   "metadata": {},
   "source": [
    "# Unclear:\n",
    "\n",
    "- Is there a $2\\pi$ factor in $\\Gamma$?\n",
    "- Which is the right distance from cloud to detector, 6.5 or 11 cm?"
   ]
  },
  {
   "cell_type": "markdown",
   "id": "1396a067",
   "metadata": {},
   "source": [
    "From \"Laser_Cooling_Colorado.pdf\"\n",
    "\n",
    "$$\n",
    "R = \\frac{\\pi \\Gamma \\left(\\frac{I}{I_s}\\right)}{1 + \\left(\\frac{I}{I_s}\\right) + 4\\left(\\frac{\\Delta}{\\Gamma}\\right)^2}\n",
    "$$\n",
    "\n",
    "where  \n",
    "- \\( R \\) is the scattering rate (photons per second per atom),  \n",
    "- \\( $\\Gamma = 6$ MHz \\) is the natural linewidth,  \n",
    "- \\( $I$ \\) is the total intensity, 6 MOT beams combined \n",
    "- \\( $I_s = 4.1$ mW/cm² \\) is the saturation intensity,  \n",
    "- \\( $\\Delta = 10$ MHz \\) is the detuning from resonance."
   ]
  },
  {
   "cell_type": "code",
   "execution_count": 24,
   "id": "7cb6cb7c",
   "metadata": {},
   "outputs": [],
   "source": [
    "from scipy import constants as const\n",
    "from uncertainties import ufloat\n",
    "from uncertainties.umath import *\n",
    "from scipy.constants import h, c, pi"
   ]
  },
  {
   "cell_type": "code",
   "execution_count": null,
   "id": "d46c59c3",
   "metadata": {},
   "outputs": [],
   "source": [
    "# Values:\n",
    "\n",
    "lambda_laser = 780.24 * 1e-9 # error ???\n",
    "responsivity = 0.45 # A/W for 780.246 nm laser (eye balled), maybe check data sheet, error ???\n",
    "gain = 1.5e6 # V/A, how strongly current is amplified from the photodiode into an output voltage, error = +- 2 %\n",
    "V_out =  0.51# measured after MOT is properly set up, error ???\n",
    "vout_error = 0.01 # V\n",
    "area_total = (4 * const.pi * 0.065**2) / 3 # 6.5 cm gap from fluorescence cloud to lense (lense goes to detector, detecor itself only 13 mm²)\n",
    "area_detector = const.pi * (1.27*1e-2)**2 # area of lense which focuses all light onto detector\n",
    "\n",
    "# measure voltage\n",
    "V_offset = 31 # mV # measure when all light gets blocked / when dark and laser is off\n",
    "v_offset_error = 1 # mV\n",
    "V_noise = 0.0003 # V (noise) part of the error"
   ]
  },
  {
   "cell_type": "code",
   "execution_count": 26,
   "id": "163388ce",
   "metadata": {},
   "outputs": [
    {
     "name": "stdout",
     "output_type": "stream",
     "text": [
      "Number of photons that arrive on detector: 2.97e+12, or 4.93e-12 mol\n"
     ]
    }
   ],
   "source": [
    "# reform this equation V_out = gain * current_photons\n",
    "current_photons = V_out / gain\n",
    "\n",
    "# also current_photons = P_indicident_power (W) * responsivity (A/W)\n",
    "P_indicident_power = current_photons / responsivity\n",
    "\n",
    "# Incident Power to Photon Rate\n",
    "E_photon = const.h * const.c / lambda_laser\n",
    "N_photons = P_indicident_power / E_photon\n",
    "\n",
    "print(f\"Number of photons that arrive on detector: {N_photons:.2e}, or {(N_photons / const.N_A):.2e} mol\")"
   ]
  },
  {
   "cell_type": "code",
   "execution_count": 27,
   "id": "e7079e00",
   "metadata": {},
   "outputs": [
    {
     "name": "stdout",
     "output_type": "stream",
     "text": [
      "N_photons: 2.97e+12\n",
      "Number of photons that arrive on detector: 2.97e+12, or 4.93e-12 mol\n",
      "Number of photons emitted from fluorescence cloud: 1.04e+14, or 1.72e-10 mol\n",
      "Number of photons emitted from fluorescence cloud: 1.04e+14, or 1.72e-10 mol\n"
     ]
    }
   ],
   "source": [
    "print(f\"N_photons: {N_photons:.2e}\")\n",
    "\n",
    "area_ratio = area_total / area_detector\n",
    "\n",
    "# calculate total amount of photons per second\n",
    "N_photons_tot = area_ratio * N_photons\n",
    "# in one calculation that would be:\n",
    "N_should_be_the_same = lambda_laser * area_total * V_out / (const.h * const.c * gain * responsivity * area_detector)\n",
    "\n",
    "print(f\"Number of photons that arrive on detector: {N_photons:.2e}, or {(N_photons / const.N_A):.2e} mol\")\n",
    "print(f\"Number of photons emitted from fluorescence cloud: {N_should_be_the_same:.2e}, or {(N_should_be_the_same / const.N_A):.2e} mol\")\n",
    "print(f\"Number of photons emitted from fluorescence cloud: {N_photons_tot:.2e}, or {(N_photons_tot / const.N_A):.2e} mol\")"
   ]
  },
  {
   "cell_type": "code",
   "execution_count": 28,
   "id": "35f2a747",
   "metadata": {},
   "outputs": [
    {
     "name": "stdout",
     "output_type": "stream",
     "text": [
      "I = (3.1+/-1.5)e+02\n"
     ]
    }
   ],
   "source": [
    "from uncertainties import ufloat\n",
    "\n",
    "# Define powers with uncertainty\n",
    "beam_1_p = ufloat(2.89e-3, 0.05e-3)  # W\n",
    "beam_2_p = ufloat(2.89e-3, 0.05e-3)  # W\n",
    "beam_3_p = ufloat(2.89e-3, 0.05e-3)  # W\n",
    "\n",
    "# Radius with uncertainty\n",
    "radius = ufloat(0.42e-2, 0.1e-2)  # convert cm to m and add uncertainty\n",
    "\n",
    "# Beam areas\n",
    "beam_1_a = pi * radius**2\n",
    "beam_2_a = pi * radius**2\n",
    "beam_3_a = pi * radius**2\n",
    "\n",
    "# Beam intensities\n",
    "beam_1 = beam_1_p / beam_1_a\n",
    "beam_2 = beam_2_p / beam_2_a\n",
    "beam_3 = beam_3_p / beam_3_a\n",
    "\n",
    "# Final intensity\n",
    "I_E = 2 * (beam_1 + beam_2 + beam_3)\n",
    "\n",
    "print(f\"I = {I_E}\")\n"
   ]
  },
  {
   "cell_type": "code",
   "execution_count": 29,
   "id": "08d3f1db",
   "metadata": {},
   "outputs": [
    {
     "name": "stdout",
     "output_type": "stream",
     "text": [
      "Scattering rate R = 7.29e+06\n"
     ]
    }
   ],
   "source": [
    "Gamma = 6 * 1e6 # 6 MHz\n",
    "# I = 2 * (beam_1 + beam_2 + beam_3)# sum of 6 MOT beams\n",
    "I_S = 4.1 * 1e-3 * 1e4 # 4.1 mW/cm²\n",
    "Delta = 10 * 1e6 # 10 MHz\n",
    "\n",
    "R = (Gamma * const.pi * (I_E.n) / I_S) / (1 + (I_E.n/I_S) + 4*(Delta / Gamma)**2 )\n",
    "\n",
    "\n",
    "print(f\"Scattering rate R = {R:.2e}\")\n",
    "\n",
    "# print(I, I_S)"
   ]
  },
  {
   "cell_type": "code",
   "execution_count": 30,
   "id": "69fa258e",
   "metadata": {},
   "outputs": [
    {
     "name": "stdout",
     "output_type": "stream",
     "text": [
      "Number of atoms in fluorescent cloud: 1.42e+07 or 2.36e-17 mol\n"
     ]
    }
   ],
   "source": [
    "# reorder equation of scattering rate R = photons / (s * atoms) to get number of atoms in fluorescent clour\n",
    "\n",
    "# n_photons_tot [photons/s], R [photons/(s*atoms)]\n",
    "N_atoms = N_photons_tot / R\n",
    "\n",
    "print(f\"Number of atoms in fluorescent cloud: {N_atoms:.2e} or {(N_atoms/const.N_A):.2e} mol\")"
   ]
  },
  {
   "cell_type": "code",
   "execution_count": 31,
   "id": "7acae7ca",
   "metadata": {},
   "outputs": [],
   "source": [
    "# N = lambda_laser * area_total * V_out / (const.h * const.c * gain * responsivity * area_lense)\n",
    "# print(N / R)\n",
    "\n",
    "# (N_photons_tot) / (R)"
   ]
  },
  {
   "cell_type": "code",
   "execution_count": 32,
   "id": "183f9a2c",
   "metadata": {},
   "outputs": [
    {
     "name": "stdout",
     "output_type": "stream",
     "text": [
      "R (7.3+/-2.1)e+06\n",
      "N photons (1.0+/-0.5)e+14\n",
      "N/R (1.4+/-0.8)e+07\n",
      "Nominal: 1.423e+07, Uncertainty: ±7.957e+06\n",
      "(1.7698+/-0.8400)e-02\n"
     ]
    }
   ],
   "source": [
    "from uncertainties import ufloat\n",
    "from uncertainties.umath import *\n",
    "from scipy.constants import h, c, pi\n",
    "\n",
    "# Define quantities with uncertainties\n",
    "lambda_laser_E = ufloat(lambda_laser, 0.1*1e-9)         # wavelength (m ± m)\n",
    "area_total_E = ufloat(area_total, 0.84e-2)             # m² ± m²\n",
    "V_out_E = ufloat(V_out, 0.01)                   # V ± V\n",
    "gain_E = ufloat(gain, 30000)                    # unitless\n",
    "responsivity_E = ufloat(responsivity, 0.01)            # A/W ± A/W\n",
    "area_detector_E = ufloat(area_detector, 001e-5)             # m² ± m²\n",
    "\n",
    "# for R:\n",
    "I_S_E = ufloat(I_S, 1) # mW/cm²\n",
    "Delta_E = ufloat(Delta, 1)\n",
    "Gamma_E = ufloat(6e6, 0.05e6)  # 6 MHz ± 0.05 MHz\n",
    "\n",
    "R = (Gamma_E * const.pi * (I_E / I_S_E) ) / (1 + (I_E/I_S_E) + 4*(Delta_E / Gamma_E)**2 )\n",
    "N_photons = (lambda_laser_E * area_total_E * V_out_E / (h * c * gain_E * responsivity_E * area_detector_E))\n",
    "N_atoms = N_photons / R\n",
    "\n",
    "print(\"R\", R)\n",
    "print(\"N photons\", N_photons)\n",
    "print(\"N/R\", N_atoms)\n",
    "print(f\"Nominal: {N_atoms.n:.3e}, Uncertainty: ±{N_atoms.s:.3e}\")\n",
    "\n",
    "print(f\"{area_total_E:.4e}\")\n"
   ]
  },
  {
   "cell_type": "code",
   "execution_count": 45,
   "id": "afc79fc4",
   "metadata": {},
   "outputs": [
    {
     "name": "stdout",
     "output_type": "stream",
     "text": [
      "(1.8+/-0.8)e-02\n"
     ]
    },
    {
     "data": {
      "text/plain": [
       "0.017697638615222503+/-0.0084"
      ]
     },
     "execution_count": 45,
     "metadata": {},
     "output_type": "execute_result"
    }
   ],
   "source": [
    "r_test = ufloat(0.1, 0.01)\n",
    "\n",
    "area_total_test = (4 * const.pi * r_test**2) / 3\n",
    "\n",
    "print(f\"{area_total_E:.1e}\")\n",
    "\n",
    "area_total_E"
   ]
  }
 ],
 "metadata": {
  "kernelspec": {
   "display_name": "Python 3",
   "language": "python",
   "name": "python3"
  },
  "language_info": {
   "codemirror_mode": {
    "name": "ipython",
    "version": 3
   },
   "file_extension": ".py",
   "mimetype": "text/x-python",
   "name": "python",
   "nbconvert_exporter": "python",
   "pygments_lexer": "ipython3",
   "version": "3.12.3"
  }
 },
 "nbformat": 4,
 "nbformat_minor": 5
}
